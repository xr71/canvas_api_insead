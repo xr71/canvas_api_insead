{
 "cells": [
  {
   "cell_type": "markdown",
   "metadata": {},
   "source": [
    "# Demo Canvas App for INSEAD EDU\n",
    "### XU REN"
   ]
  },
  {
   "cell_type": "code",
   "execution_count": 1,
   "metadata": {},
   "outputs": [],
   "source": [
    "import requests\n",
    "import time\n",
    "import pandas as pd\n",
    "import canvasapi\n",
    "import getpass\n",
    "import pprint\n",
    "from IPython.core.display import HTML"
   ]
  },
  {
   "cell_type": "code",
   "execution_count": 2,
   "metadata": {},
   "outputs": [
    {
     "name": "stdout",
     "output_type": "stream",
     "text": [
      "········\n"
     ]
    }
   ],
   "source": [
    "canvas_api_key = getpass.getpass()"
   ]
  },
  {
   "cell_type": "code",
   "execution_count": 3,
   "metadata": {},
   "outputs": [],
   "source": [
    "API_URL = \"https://learn.insead.edu\""
   ]
  },
  {
   "cell_type": "code",
   "execution_count": 4,
   "metadata": {},
   "outputs": [],
   "source": [
    "canvas = canvasapi.Canvas(API_URL, canvas_api_key)"
   ]
  },
  {
   "cell_type": "code",
   "execution_count": 5,
   "metadata": {},
   "outputs": [
    {
     "data": {
      "text/plain": [
       "<canvasapi.canvas.Canvas at 0x122c60b70>"
      ]
     },
     "execution_count": 5,
     "metadata": {},
     "output_type": "execute_result"
    }
   ],
   "source": [
    "canvas"
   ]
  },
  {
   "cell_type": "code",
   "execution_count": 6,
   "metadata": {},
   "outputs": [
    {
     "name": "stdout",
     "output_type": "stream",
     "text": [
      "Xu REN (3199)\n"
     ]
    }
   ],
   "source": [
    "# my user id is 3199\n",
    "myid = 3199\n",
    "\n",
    "me = canvas.get_user(myid)\n",
    "\n",
    "course_map = {\n",
    "    1043: \"Financial Accounting\",\n",
    "    1050: \"Financial Markets and Valuation\",\n",
    "    960: \"Introduction to Strategy\",\n",
    "    947: \"Mandatory P1P2 Calendar\",\n",
    "    1055: \"Organizational Behavior\",\n",
    "    1053: \"Prices and Markets\",\n",
    "    982: \"UDJ\"\n",
    "}\n",
    "\n",
    "print(me)"
   ]
  },
  {
   "cell_type": "markdown",
   "metadata": {},
   "source": [
    "# Announcements\n",
    "\n",
    "Any new announcements I need to know of?"
   ]
  },
  {
   "cell_type": "code",
   "execution_count": 7,
   "metadata": {},
   "outputs": [
    {
     "name": "stdout",
     "output_type": "stream",
     "text": [
      "Reflection Paper:  Optional assignment  (1820)\n",
      "OB1_Meeting 1_Everest Simulation_Handouts_Preparation-Meeting-2 (1818)\n",
      "Tutorial #1 FA | Saturday 7 September (1806)\n",
      "ITS #2 class preparation: Ikea (1795)\n",
      "ITS E4 - schedule change, sessions 7 & 8 (1789)\n",
      "Schedule Change - Q & A  with Dean of Degree Prog (mandatory) (1786)\n",
      "OB1_Welcome to OB1 (1743)\n",
      "No title (1714)\n",
      "Schedule change - FA tutorial (all sections) (1697)\n"
     ]
    }
   ],
   "source": [
    "for a in canvas.get_announcements(context_codes=[\"course_\"+str(k) for k in course_map]): print(a)"
   ]
  },
  {
   "cell_type": "markdown",
   "metadata": {},
   "source": [
    "## Financial Accounting"
   ]
  },
  {
   "cell_type": "code",
   "execution_count": 8,
   "metadata": {},
   "outputs": [],
   "source": [
    "fa = canvas.get_course(1043)"
   ]
  },
  {
   "cell_type": "code",
   "execution_count": 9,
   "metadata": {},
   "outputs": [
    {
     "name": "stdout",
     "output_type": "stream",
     "text": [
      "{'account_id': 123,\n",
      " 'apply_assignment_group_weights': False,\n",
      " 'blueprint': False,\n",
      " 'calendar': {'ics': 'https://learn.insead.edu/feeds/calendars/course_iSBcSLicnrqwXBXYwYrtc9hDl3nPY4Eenw45qwD3.ics'},\n",
      " 'course_code': 'MBA20J_ACC_Financial Accounting_S.Song_FBL',\n",
      " 'course_format': 'on_campus',\n",
      " 'created_at': '2019-05-15T04:56:34Z',\n",
      " 'default_view': 'syllabus',\n",
      " 'end_at': None,\n",
      " 'enrollment_term_id': 227,\n",
      " 'enrollments': [{'enrollment_state': 'active',\n",
      "                  'role': 'StudentEnrollment',\n",
      "                  'role_id': 3,\n",
      "                  'type': 'student',\n",
      "                  'user_id': 3199}],\n",
      " 'grading_standard_id': None,\n",
      " 'hide_final_grades': False,\n",
      " 'id': 1043,\n",
      " 'is_public': False,\n",
      " 'is_public_to_auth_users': False,\n",
      " 'license': 'private',\n",
      " 'locale': 'en-GB',\n",
      " 'name': 'Financial Accounting',\n",
      " 'overridden_course_visibility': '',\n",
      " 'public_syllabus': False,\n",
      " 'public_syllabus_to_auth': False,\n",
      " 'restrict_enrollments_to_course_dates': False,\n",
      " 'root_account_id': 1,\n",
      " 'start_at': '2019-05-16T23:00:00Z',\n",
      " 'storage_quota_mb': 500,\n",
      " 'time_zone': 'Europe/Paris',\n",
      " 'uuid': 'iSBcSLicnrqwXBXYwYrtc9hDl3nPY4Eenw45qwD3',\n",
      " 'workflow_state': 'available'}\n"
     ]
    }
   ],
   "source": [
    "pprint.pprint(fa.attributes)"
   ]
  },
  {
   "cell_type": "code",
   "execution_count": 10,
   "metadata": {},
   "outputs": [],
   "source": [
    "fa_assignments = fa.get_assignments()"
   ]
  },
  {
   "cell_type": "code",
   "execution_count": 11,
   "metadata": {},
   "outputs": [],
   "source": [
    "def assignment_parser(assignment_object):\n",
    "    data = assignment_object.attributes\n",
    "    \n",
    "    print(f\"Assignment {data.get('name')} is due at {data.get('due_at')}  Can be viewed at {data.get('html_url')}\")"
   ]
  },
  {
   "cell_type": "code",
   "execution_count": 12,
   "metadata": {},
   "outputs": [
    {
     "name": "stdout",
     "output_type": "stream",
     "text": [
      "Assignment S01 and S02_FA_Prepare for class discussion - Pepsi Co is due at 2019-09-02T08:00:00Z  Can be viewed at https://learn.insead.edu/courses/1043/assignments/3628\n",
      "\n",
      "Assignment S04_FA_Prepare for class discussion - The Financial Statement Detective is due at 2019-09-10T06:00:00Z  Can be viewed at https://learn.insead.edu/courses/1043/assignments/3125\n",
      "\n",
      "Assignment S05_FA_Assignment_Optional submission 01_LVMH vs. Warnaco is due at 2019-09-13T06:00:00Z  Can be viewed at https://learn.insead.edu/courses/1043/assignments/3063\n",
      "\n",
      "Assignment S06_FA_Assignment_Optional submission 02_Beterbed is due at 2019-09-17T06:00:00Z  Can be viewed at https://learn.insead.edu/courses/1043/assignments/3058\n",
      "\n",
      "Assignment S07_FA_Assignment Optional submission 03_Inditex is due at 2019-09-20T06:00:00Z  Can be viewed at https://learn.insead.edu/courses/1043/assignments/3062\n",
      "\n",
      "Assignment S09_FA_Assignment_REQUIRED submission 01_Diamond Foods is due at 2019-09-27T06:00:00Z  Can be viewed at https://learn.insead.edu/courses/1043/assignments/3056\n",
      "\n",
      "Assignment S10_FA_Assignment Optional submission 04_McAfee  is due at 2019-10-01T06:00:00Z  Can be viewed at https://learn.insead.edu/courses/1043/assignments/3064\n",
      "\n",
      "Assignment S11_FA_Assignment_Optional submission 05_Delta vs. Singapore Airlines is due at 2019-10-04T06:00:00Z  Can be viewed at https://learn.insead.edu/courses/1043/assignments/3059\n",
      "\n",
      "Assignment S12_FA_Assignment_Optional submission 06_British Petroleum is due at 2019-10-08T06:00:00Z  Can be viewed at https://learn.insead.edu/courses/1043/assignments/3061\n",
      "\n",
      "Assignment S14_FA_Assignment_Optional submission 07_InBev acquires AB is due at 2019-10-15T06:00:00Z  Can be viewed at https://learn.insead.edu/courses/1043/assignments/3060\n",
      "\n",
      "Assignment S14_FA_Assignment_REQUIRED submission 02_FSA Case is due at 2019-10-17T06:00:00Z  Can be viewed at https://learn.insead.edu/courses/1043/assignments/3092\n",
      "\n"
     ]
    }
   ],
   "source": [
    "for assignment in fa_assignments:\n",
    "    assignment_parser(assignment)\n",
    "    print()"
   ]
  },
  {
   "cell_type": "code",
   "execution_count": 14,
   "metadata": {},
   "outputs": [
    {
     "data": {
      "text/html": [
       "<p><span style=\"font-size: 14pt; color: #ff6600;\">Prepare for class discussion</span></p>\r\n",
       "<p><span style=\"font-size: 14pt; color: #ff6600;\"><strong>Case Pepsi Co: <a class=\"instructure_file_link instructure_scribd_file\" title=\"S01.1_FA_PepsiCo Inc_2016-annual-report.pdf\" href=\"https://learn.insead.edu/courses/1043/files/88851/download?verifier=uHt61GLMc4QK6TQ5t64XnYJQuq8ob8gtSTN0DBpy&amp;wrap=1\" data-api-endpoint=\"https://learn.insead.edu/api/v1/courses/1043/files/88851\" data-api-returntype=\"File\">S01.1_FA_PepsiCo Inc_2016-annual-report.pdf</a></strong></span></p>\r\n",
       "<p><span style=\"font-size: 14pt; color: #ff6600;\"><strong>Questions:</strong></span></p>\r\n",
       "<p><span style=\"font-size: 14pt; color: #ff6600;\"><strong><a class=\"instructure_file_link instructure_scribd_file\" title=\"S01.2_FA_Questions_on_Pepsi_Co._Part_A.pdf\" href=\"https://learn.insead.edu/courses/1043/files/88818/download?verifier=fIr7OOBemXz1VvFhH1rEn7xOddKJnpHPxPLdFFBP&amp;wrap=1\" data-api-endpoint=\"https://learn.insead.edu/api/v1/courses/1043/files/88818\" data-api-returntype=\"File\">S01.2_FA_Questions_on_Pepsi_Co._Part_A.pdf</a></strong></span></p>\r\n",
       "<p><span style=\"font-size: 14pt; color: #ff6600;\"><strong><a class=\"instructure_file_link instructure_scribd_file\" title=\"S02.1_FA_Questions_on_Pepsi_Co._Part_B.pdf\" href=\"https://learn.insead.edu/courses/1043/files/88819/download?verifier=cgAfze4UTU13qDpdahnsHvSwbPpIwRqrmitTwo38&amp;wrap=1\" data-api-endpoint=\"https://learn.insead.edu/api/v1/courses/1043/files/88819\" data-api-returntype=\"File\">S02.1_FA_Questions_on_Pepsi_Co._Part_B.pdf</a></strong></span></p>\r\n",
       "<p><span style=\"font-size: 14pt; color: #ff6600;\"><strong><a class=\"instructure_file_link instructure_scribd_file\" title=\"S02.2_FA_Questions_on_Pepsi_Co._Part_C.pdf\" href=\"https://learn.insead.edu/courses/1043/files/88820/download?verifier=S4bdn1AjimogSejV8hKYZCQFI0Cv04cR8nCpKxIr&amp;wrap=1\" data-api-endpoint=\"https://learn.insead.edu/api/v1/courses/1043/files/88820\" data-api-returntype=\"File\">S02.2_FA_Questions_on_Pepsi_Co._Part_C.pdf</a></strong></span></p>"
      ],
      "text/plain": [
       "<IPython.core.display.HTML object>"
      ]
     },
     "metadata": {},
     "output_type": "display_data"
    },
    {
     "name": "stdout",
     "output_type": "stream",
     "text": [
      "###############################################################################################################\n",
      "\n"
     ]
    },
    {
     "data": {
      "text/html": [
       "<p><span style=\"font-size: 14pt; color: #ff6600;\">Prepare for class discussion</span></p>\r\n",
       "<p><span style=\"font-size: 14pt; color: #ff6600;\"><strong>Case The Financial Statement Detective: <a class=\"instructure_file_link instructure_scribd_file\" title=\"S04.1_FA_Financial_Statement_Detective_CS_EN_0_01_2016_5325 internal_use.pdf\" href=\"https://learn.insead.edu/courses/1043/files/88822/download?verifier=WO88oRxU8mwe43ziM7YTrvOGMGLixxHNzlG4Kn6h&amp;wrap=1\" data-api-endpoint=\"https://learn.insead.edu/api/v1/courses/1043/files/88822\" data-api-returntype=\"File\">S04.1_FA_Financial_Statement_Detective_CS_EN_0_01_2016_5325 internal_use.pdf</a></strong></span></p>\r\n",
       "<p><u>One copy of 2 pages max</u> per group</p>\r\n",
       "<p>Exercise Exhibit 1 shows common-size balance sheets and income statements for 12 companies, described in the document.</p>\r\n",
       "<p>Your job is to match each company with its financial statements. <br>There are two broad approaches:<br>- one is to work out the financial profile of the different industries, map that onto Exhibit 1 and so identify the company; the other is to start with the Exhibit, identify the highest and lowest percentages in each row and map these onto the industries and therefore companies.<br>- the second is probably easier, the sequence adopted may be more important than expected</p>"
      ],
      "text/plain": [
       "<IPython.core.display.HTML object>"
      ]
     },
     "metadata": {},
     "output_type": "display_data"
    },
    {
     "name": "stdout",
     "output_type": "stream",
     "text": [
      "###############################################################################################################\n",
      "\n"
     ]
    },
    {
     "data": {
      "text/html": [
       "<p><span style=\"text-decoration: underline;\"><span style=\"color: #ff6600; text-decoration: underline;\"><span style=\"color: #ff6600; font-size: 14pt;\"><strong>OPTIONAL Submission 01:</strong></span></span></span></p>\r\n",
       "<p><span style=\"text-decoration: underline;\"><span style=\"color: #ff6600; text-decoration: underline;\">Please do not forget to indicate on the page (or in the header/footer) your</span></span>:</p>\r\n",
       "<ul>\r\n",
       "<li>section number,</li>\r\n",
       "<li>group number,</li>\r\n",
       "<li>names</li>\r\n",
       "</ul>\r\n",
       "<p> </p>\r\n",
       "<p><span style=\"color: #ff6600; font-size: 14pt;\"><strong>Case LVMH vs. Warnaco: <a class=\"instructure_file_link instructure_scribd_file\" title=\"S05.2_FA_LVMH_and_Warnaco_Strategy_and_FSA.pdf\" href=\"https://learn.insead.edu/courses/1043/files/88823/download?verifier=y7MHJbt0KajxW6wE7AnCXwkHdC7Hzaf7HBQ8uIKe&amp;wrap=1\" data-api-endpoint=\"https://learn.insead.edu/api/v1/courses/1043/files/88823\" data-api-returntype=\"File\">S05.2_FA_LVMH_and_Warnaco_Strategy_and_FSA.pdf</a></strong></span></p>\r\n",
       "<p><u>One copy of 2 pages max</u> per group.</p>\r\n",
       "<ol>\r\n",
       "<li>Calculate ROIC for both companies for fiscal 2011. For calculations requiring a tax rate, assume 33% for LVMH (the French corporate rate), and 35% for Warnaco (the U.S. corporate rate). Based on this analysis alone, how do the companies compare in terms of their performance?</li>\r\n",
       "<li>Review the description of each company above and think about the strategic positioning of their products. How are the two companies similar, and how are they different?</li>\r\n",
       "<li>Breakdown ROIC into its components, NOPM and IC turnover.</li>\r\n",
       "<li>Based on your calculations in 3, and your analysis in 2, does the breakdown for ROIC into NOPM and IC turnover align with your expectations regarding company strategy? What does this say about management's ability to deliver performance in accordance with their stated objectives?</li>\r\n",
       "</ol>"
      ],
      "text/plain": [
       "<IPython.core.display.HTML object>"
      ]
     },
     "metadata": {},
     "output_type": "display_data"
    },
    {
     "name": "stdout",
     "output_type": "stream",
     "text": [
      "###############################################################################################################\n",
      "\n"
     ]
    },
    {
     "data": {
      "text/html": [
       "<p><span style=\"text-decoration: underline; font-size: 14pt;\"><span style=\"color: #ff6600; text-decoration: underline;\"><strong>Optional submission 02:</strong></span></span></p>\r\n",
       "<p><span style=\"text-decoration: underline;\"><span style=\"color: #ff6600; text-decoration: underline;\">Please do not forget to indicate on the page (or in the header/footer) your</span></span>:</p>\r\n",
       "<ul>\r\n",
       "<li>section number,</li>\r\n",
       "<li>group number,</li>\r\n",
       "<li>names</li>\r\n",
       "</ul>\r\n",
       "<p><br><span style=\"font-size: 14pt;\"><strong><span style=\"color: #ff6600;\">Case </span></strong></span><span style=\"font-size: 14pt;\"><strong><span style=\"color: #ff6600;\">Beterbed: <a class=\"instructure_file_link instructure_scribd_file\" title=\"S06.2_FA_Beter_Bed_Determing_the_Sources_and_Uses_of_Cash.pdf\" href=\"https://learn.insead.edu/courses/1043/files/88825/download?verifier=yxlXceLBYGuPijyXWAJGJjq09qbBcN4U3MRDWvTv&amp;wrap=1\" data-api-endpoint=\"https://learn.insead.edu/api/v1/courses/1043/files/88825\" data-api-returntype=\"File\">S06.2_FA_Beter_Bed_Determing_the_Sources_and_Uses_of_Cash.pdf</a></span></strong></span></p>\r\n",
       "<p><span style=\"font-size: 14pt;\"><strong><span style=\"color: #ff6600;\">Exhibit(s): <a class=\"instructure_file_link instructure_scribd_file\" title=\"S06.3_FA_Beter_Bed_Balance_Sheet_Income_Statement.xlsx\" href=\"https://learn.insead.edu/courses/1043/files/88826/download?verifier=0dhsOPmf7bvBEOEiEnvgDzupLXdWe7UzhkRUcE7C&amp;wrap=1\" data-api-endpoint=\"https://learn.insead.edu/api/v1/courses/1043/files/88826\" data-api-returntype=\"File\">S06.3_FA_Beter_Bed_Balance_Sheet_Income_Statement.xlsx</a></span></strong></span></p>\r\n",
       "<p><strong><u>One copy of 2 pages max</u> per group</strong></p>\r\n",
       "<p>Please note that the Excel workbook contains 2 worksheets (and not 3):</p>\r\n",
       "<p>- Schedule of Beter Bed's assets, liabilities and equity at the end of the fiscal year 2002 and 2011</p>\r\n",
       "<p>Read the excerpts from Beter Bed’s Annual Report, and then <span style=\"text-decoration: underline;\">answer the 9 questions</span>.</p>\r\n",
       "<p>If you want to submit a case write-up for credit, please provide written answers to the questions, and submit this document to the course website.</p>"
      ],
      "text/plain": [
       "<IPython.core.display.HTML object>"
      ]
     },
     "metadata": {},
     "output_type": "display_data"
    },
    {
     "name": "stdout",
     "output_type": "stream",
     "text": [
      "###############################################################################################################\n",
      "\n"
     ]
    },
    {
     "data": {
      "text/html": [
       "<p><span style=\"text-decoration: underline;\"><span style=\"color: #ff6600; text-decoration: underline;\"><span style=\"color: #ff6600; font-size: 14pt;\"><strong>OPTIONAL Submission 03:</strong></span></span></span></p>\r\n",
       "<p><span style=\"text-decoration: underline;\"><span style=\"color: #ff6600; text-decoration: underline;\">Please do not forget to indicate on the page (or in the header/footer) your</span></span><span style=\"color: #000000;\">:</span></p>\r\n",
       "<ul>\r\n",
       "<li>section number,</li>\r\n",
       "<li>group number,</li>\r\n",
       "<li>names</li>\r\n",
       "</ul>\r\n",
       "<p><span style=\"color: #ff6600; font-size: 14pt;\"><strong>Inditex: <a class=\"instructure_file_link instructure_scribd_file\" title=\"S07.2_FA_Inditex_Analyzing_the_statement_of_cash_flows.pdf\" href=\"https://learn.insead.edu/courses/1043/files/88827/download?verifier=6m3zOstmk1NeuisOuRAo1wXAY99DTBaHUiiVNHgs&amp;wrap=1\" data-api-endpoint=\"https://learn.insead.edu/api/v1/courses/1043/files/88827\" data-api-returntype=\"File\">S07.2_FA_Inditex_Analyzing_the_statement_of_cash_flows.pdf</a></strong></span></p>\r\n",
       "<p><u>One copy of 2 pages max</u> per group.</p>\r\n",
       "<ol>\r\n",
       "<li>In 2010 and 2009 which individual line item consumed the most cash per the Statement of Cash Flows?<br><br>\n",
       "</li>\r\n",
       "<li>Where did the company obtain the cash to pay for the item identified in 1. above?<br><br>\n",
       "</li>\r\n",
       "<li>Why is depreciation and amortization added back to income before taxes when calculating cash from operations?<br><br>\n",
       "</li>\r\n",
       "<li>Review the sub-section titled Changes in Assets and Liabilities within the Statement of Cash Flows. Note that for the individual line items listed as increase in inventories and increase in accounts receivable the signs of the adjustments flip from FY2009 to FY2010 (i.e., they are added back in 2009 but deducted in 2010).<br>What was the firm doing differently across the two years that caused the sign of the adjustments to flip?<br><br>\n",
       "</li>\r\n",
       "<li>Review management’s discussion of the historical results in 2010 as well as their forecast for 2011 and focus on their discussion of new store openings.<br>a. Does Inditex appear to be contracting or expanding its store presence?<br>b. Where on the Statement of Cash Flows can one find information about the cash necessary to open new outlets?<br>c. Focusing just on the historical data, compare the rate of depreciation and amortization to the rate of capital expenditure. Does this analysis support the level of expansion described by management in the text disclosures?<br><br>\n",
       "</li>\r\n",
       "<li>Review management’s discussion on p. 4 of the case of their upcoming dividend policies. Consider these dividend plans in light of the expansion plans from 5. above. Do these two strategies appear consistent? What are the risks and rewards of these important managerial decisions considered jointly?<br><br>\n",
       "</li>\r\n",
       "<li>At the bottom of p. 4 of the case management makes the following disclosure: \"The operating working capital position remains negative, a consequence of the business model\" Then a table appears at the top of p. 5 of the case detailing this negative working capital position. How do you interpret this disclosure?<br>That is, what operational decisions is management making and executing as part of their \"business model\" that leads to this result? Is it a good or a bad outcome?</li>\r\n",
       "</ol>\r\n",
       "<p> </p>"
      ],
      "text/plain": [
       "<IPython.core.display.HTML object>"
      ]
     },
     "metadata": {},
     "output_type": "display_data"
    },
    {
     "name": "stdout",
     "output_type": "stream",
     "text": [
      "###############################################################################################################\n",
      "\n"
     ]
    },
    {
     "data": {
      "text/html": [
       "<p><span style=\"text-decoration: underline; font-size: 14pt;\"><span style=\"color: #ff6600; text-decoration: underline;\"><strong>REQUIRED Submission 01:</strong></span></span></p>\r\n",
       "<p><span style=\"text-decoration: underline;\"><span style=\"color: #ff6600; text-decoration: underline;\">Please do not forget to indicate on the page (or in the header/footer) your</span></span>:</p>\r\n",
       "<ul>\r\n",
       "<li>section number,</li>\r\n",
       "<li>group number,</li>\r\n",
       "<li>names</li>\r\n",
       "</ul>\r\n",
       "<p> </p>\r\n",
       "<p><strong><span style=\"color: #ff6600; font-size: 14pt;\">Case </span><span style=\"color: #ff6600; font-size: 14pt;\">Diamonds Foods: <a class=\"instructure_file_link instructure_scribd_file\" title=\"S09.2_FA_Diamond Foods Inc_HBS Case-9-113-055.pdf\" href=\"https://learn.insead.edu/courses/1043/files/88848/download?verifier=BT9w5jIyZM8QDngmsVOHXwmZIUsT6qqiskLHTFcv&amp;wrap=1\" data-api-endpoint=\"https://learn.insead.edu/api/v1/courses/1043/files/88848\" data-api-returntype=\"File\">S09.2_FA_Diamond Foods Inc_HBS Case-9-113-055.pdf</a></span></strong></p>\r\n",
       "<p><strong><span style=\"color: #ff6600; font-size: 14pt;\">Exhibits: <a class=\"instructure_file_link instructure_scribd_file\" title=\"S09.3_FA_Diamond_Foods_Inc_Exhibits.xlsx\" href=\"https://learn.insead.edu/courses/1043/files/88828/download?verifier=rWJg1ltc99MWJqySgKam4kLM5s83Z7DfkMhdiGWJ&amp;wrap=1\" data-api-endpoint=\"https://learn.insead.edu/api/v1/courses/1043/files/88828\" data-api-returntype=\"File\">S09.3_FA_Diamond_Foods_Inc_Exhibits.xlsx</a></span></strong></p>\r\n",
       "<p><u>One copy of 2 pages max per group</u>.</p>\r\n",
       "<p><u>Your answers should be typed and submitted either in the form of a Microsoft Word document or a pdf file. You may also submit an Excel workbook that contains your supporting calculations, etc.</u></p>\r\n",
       "<p><u>Please provide written answers to each of the 9 following questions</u> (questions can also be found in your course package, with Section ....):</p>\r\n",
       "<ol>\r\n",
       "<li>Using the information in the Excel workbook, calculate the following:<br>a. The annual growth rate in revenues for the years 2006-2011.<br>b. The annual gross profit percentage (i.e., gross profit as a percentage of sales) for the years 2006-2011.<br>c. The annual ratio of operating income to sales for the years 2006-2011.<br><br>\n",
       "</li>\r\n",
       "<li>Given the amounts you calculate in (1.a) through (1.c), how would you characterize Diamond’s performance during the years spanning 2006-2011?<br><br>\n",
       "</li>\r\n",
       "<li>What effect, if any, did the acquisitions of Pop Secret and Kettle Foods have on Diamond’s revenue growth during the years 2006-2011? That is, using the data in the Excel workbook calculate what Diamond’s revenue growth would have been had it owned Pop Secret and Kettle Foods for the entire time period.<br><br>\n",
       "</li>\r\n",
       "<li>How does your answer to (3) above affect your answer to (2) above?<br><br>\n",
       "</li>\r\n",
       "<li>Describe the momentum payments that Diamond made to the Walnut growers. What is the economic substance of these payments? In particular, do you agree that the momentum payments are simply “loyalty bonuses” or do you think that they were in-substance payments for walnuts purchased by Diamond in the previous fiscal year?<br><br>\n",
       "</li>\r\n",
       "<li>Suppose that, in your answer to (5) above, you argued that the momentum payments are in-substance payments for walnuts. Adjust Diamond’s cost of sales, gross profit and operating income for the fiscal years 2010 and 2011. When making the adjustments, assume the following:<br><br>a. In fiscal 2010 (2011) Diamond paid its walnut suppliers $120.7 mil. ($104.4 mil.) in exchange for walnuts received that year. <strong><span style=\"text-decoration: underline;\">In addition</span></strong>, one month after the 2010 (2011) fiscal year end, Diamond paid loyalty bonuses (a. k. a. momentum payments) of $17.0 mil. ($56.6 mil.). These amounts are not included in amounts paid during the previous fiscal year.<br>b. Assume Diamond sells all walnuts in the same fiscal year in which they are purchased.<br><br>\n",
       "</li>\r\n",
       "<li>How do your answers to (5) and (6) above affect your answers to (1) and (2) above?<br><br>\n",
       "</li>\r\n",
       "<li>During the time period immediately preceding and including 2011 did Diamond’s managers have strong incentives to report high growth in revenues and earnings? Do you think these incentives put pressure on Diamond’s managers to manipulate Diamond’s reported revenues and earnings? If so, how did Diamond’s managers respond to the pressure?<br><br>\n",
       "</li>\r\n",
       "<li>Were there any issues with Diamond’s governance structure—i.e., the makeup of its board of directors, etc.—that arguably increased the risk of financial misstatements?</li>\r\n",
       "</ol>"
      ],
      "text/plain": [
       "<IPython.core.display.HTML object>"
      ]
     },
     "metadata": {},
     "output_type": "display_data"
    },
    {
     "name": "stdout",
     "output_type": "stream",
     "text": [
      "###############################################################################################################\n",
      "\n"
     ]
    },
    {
     "data": {
      "text/html": [
       "<p><span style=\"color: #ff6600;\"><span style=\"font-size: 14pt; color: #ff6600;\"><strong>OPTIONAL Submission 04:</strong></span></span></p>\r\n",
       "<p><span style=\"text-decoration: underline;\"><span style=\"color: #ff6600; text-decoration: underline;\">Please do not forget to indicate on the page (or in the header/footer) your</span></span>:</p>\r\n",
       "<ul>\r\n",
       "<li>section number,</li>\r\n",
       "<li>group number,</li>\r\n",
       "<li>names</li>\r\n",
       "</ul>\r\n",
       "<p> </p>\r\n",
       "<p><span style=\"font-size: 14pt; color: #ff6600;\"><strong>Case McAfee: <a class=\"instructure_file_link instructure_scribd_file\" title=\"S10.2_FA_McAfee_A_case_of_channel_stuffing.pdf\" href=\"https://learn.insead.edu/courses/1043/files/88829/download?verifier=O4SCKHpUu7pbWNgzuVUp7N9SNX7UTEMtaTXOWK5e&amp;wrap=1\" data-api-endpoint=\"https://learn.insead.edu/api/v1/courses/1043/files/88829\" data-api-returntype=\"File\">S10.2_FA_McAfee_A_case_of_channel_stuffing.pdf</a> </strong></span></p>\r\n",
       "<p><u>One copy of 2 pages max</u> per group</p>\r\n",
       "<ol>\r\n",
       "<li>Describe in one or two sentences the concept of \"channel stuffing\".</li>\r\n",
       "<li>Can a company stuff its distribution channels forever? If not, how does the practice come to an end?</li>\r\n",
       "<li>After McAfee restated their accounts, what was the \"true\" number they reported for sales in 1998?</li>\r\n",
       "<li>Using some basic ratio analysis, what indicators can you find in Exhibit 2 that might indicate channel stuffing?</li>\r\n",
       "<li>Not all of the allegations made by the SEC are easily detected using external financial statement analysis. Which ones might be more difficult to detect?</li>\r\n",
       "<li>What is the pattern of operating cash flows that is likely to occur when a company stuffs its channel? In McAfee’s case, where was it acquiring the cash from that enabled it to carry out the strategy?</li>\r\n",
       "<li>What sort of forces do you suppose pressure managers into opting for a strategy of channel stuffing?</li>\r\n",
       "<li>The following letter appeared in the Financial Analysts Journal in March 2007 following the publication of the paper cited in the footnote on p2. of the case.<br><br>Evaluate the letter writer’s comments. Can channel stuffing ever be viewed as a \"good\" thing from the perspective of shareholders?</li>\r\n",
       "</ol>"
      ],
      "text/plain": [
       "<IPython.core.display.HTML object>"
      ]
     },
     "metadata": {},
     "output_type": "display_data"
    },
    {
     "name": "stdout",
     "output_type": "stream",
     "text": [
      "###############################################################################################################\n",
      "\n"
     ]
    },
    {
     "data": {
      "text/html": [
       "<p><span style=\"color: #ff6600;\"><span style=\"font-size: 14pt; color: #ff6600;\"><strong>OPTIONAL Submission 05: </strong></span></span></p>\r\n",
       "<p><span style=\"text-decoration: underline;\"><span style=\"color: #ff6600; text-decoration: underline;\">Please do not forget to indicate on the page (or in the header/footer) your</span></span>:</p>\r\n",
       "<ul>\r\n",
       "<li>section number,</li>\r\n",
       "<li>group number,</li>\r\n",
       "<li>names</li>\r\n",
       "</ul>\r\n",
       "<p><span style=\"font-size: 14pt; color: #ff6600;\"><strong><br>Case Delta vs. Singapore Airlines: <a class=\"instructure_file_link instructure_scribd_file\" title=\"S11.3_FA_Depreciation at Delta Airlines and Singapore Airlines (A)_HBS Case-9-198-001.pdf\" href=\"https://learn.insead.edu/courses/1043/files/88850/download?verifier=BZiQKXopYayz2MNJpfUVoAe4gxx19Q6oSM3JLijE&amp;wrap=1\" data-api-endpoint=\"https://learn.insead.edu/api/v1/courses/1043/files/88850\" data-api-returntype=\"File\">S11.3_FA_Depreciation at Delta Airlines and Singapore Airlines (A)_HBS Case-9-198-001.pdf</a></strong></span></p>\r\n",
       "<p><u>One copy of 2 pages max</u> per group</p>\r\n",
       "<ol>\r\n",
       "<li>Calculate the annual depreciation expense that Delta and Singapore would record for each $100 gross value of aircraft.<br>a. For Delta, what was its annual depreciation expense (per $100 of gross aircraft value) prior to July 1, 1986; from July 1, 1986 through March 31, 1993; and from April 1, 1993 on?<br>b. For Singapore, what was its annual depreciation expense (per $100 of gross aircraft value) prior to April 1, 1989; and from April 1, 1989 on?<br><br>\n",
       "</li>\r\n",
       "<li>Are the differences in the ways that the 2 airlines account for depreciation expense significant? Why would companies depreciate aircraft using different depreciable lives and salvage values? What reasons could be given to support these differences? Is different treatment proper?<br><br>\n",
       "</li>\r\n",
       "<li>Assuming the average value of flight equipment that Delta had in 1993, how much of a difference do the depreciation assumptions it adopted on April 1, 1993 make? How much more or less will its annual depreciation expense be compared to what it would be were it using Singapore's depreciation assumptions?<br><br>\n",
       "</li>\r\n",
       "<li>Singapore Airlines maintains depreciation assumptions that are very different from Delta's. What does it gain or lose by doing so? How does this relate to the company's overall strategy?<br><br>\n",
       "</li>\r\n",
       "<li>Does the difference in the average age of Delta's and Singapore's aircraft fleets have any impact on the amount of depreciation expense that they record? If so, how much?</li>\r\n",
       "</ol>"
      ],
      "text/plain": [
       "<IPython.core.display.HTML object>"
      ]
     },
     "metadata": {},
     "output_type": "display_data"
    },
    {
     "name": "stdout",
     "output_type": "stream",
     "text": [
      "###############################################################################################################\n",
      "\n"
     ]
    },
    {
     "data": {
      "text/html": [
       "<p><span style=\"color: #ff6600;\"><span style=\"font-size: 14pt; color: #ff6600;\"><strong>OPTIONAL Submission 06: </strong></span></span></p>\r\n",
       "<p><span style=\"text-decoration: underline;\"><span style=\"color: #ff6600; text-decoration: underline;\">Please do not forget to indicate on the page (or in the header/footer) your</span></span><span style=\"color: #000000;\">:</span></p>\r\n",
       "<ul>\r\n",
       "<li>section number,</li>\r\n",
       "<li>group number,</li>\r\n",
       "<li>names</li>\r\n",
       "</ul>\r\n",
       "<p> </p>\r\n",
       "<p><span style=\"color: #ff6600; font-size: 14pt;\"><strong>Case British Petroleum: <a class=\"instructure_file_link instructure_scribd_file\" title=\"S12.2_FA_BP_Gulf_of_Mexico_oil_spill.pdf\" href=\"https://learn.insead.edu/courses/1043/files/88830/download?verifier=lxAEY3DQQ0sV5zbatBcKsMZXnGCfzsHwuV2IOx7S&amp;wrap=1\" data-api-endpoint=\"https://learn.insead.edu/api/v1/courses/1043/files/88830\" data-api-returntype=\"File\">S12.2_FA_BP_Gulf_of_Mexico_oil_spill.pdf</a></strong></span></p>\r\n",
       "<p><u>One copy of 2 pages max</u> per group</p>\r\n",
       "<ol>\r\n",
       "<li>List all the stakeholders, including those not named by BP, that were affected by the 2010 Deepwater Horizon oil spill in the Gulf of Mexico.<br><br>\n",
       "</li>\r\n",
       "<li>\"BP has provided for all potential liabilities that can be estimated reliably at this time, including fines and penalties under the CWA (Clean Water Act)... BP considers that it is not possible to estimate reliably any obligation in relation to NRD (natural resource damage) claims... <br>These items are therefore contingent liabilities\" (p.79)<br>a. What are the differences between \"provisions (or loss contingencies)\" and \"contingent liabilities\"? How are they accounted for in the financial statements?<br>b. How are provisions (or loss contingencies) different from typical liabilities, such as accounts payable and long-term debt?<br><br>\n",
       "</li>\r\n",
       "<li>What is the dollar magnitude of the total amount of costs that BP has recognized and expensed related to the spill clean-up and damage claims? Identify the magnitude associated with each separate class of costs. (Hint: see Exhibit 3 for a summary)<br><br>\n",
       "</li>\r\n",
       "<li>How much provision did BP provide for the estimated penalties under the Clean Water Act (CWA)? How did BP come up with this estimate and why was it so difficult to do? What could be the maximum penalty under the CWA? (Hint: see Exhibit 3)<br><br>\n",
       "</li>\r\n",
       "<li>Had BP followed U.S. GAAP, instead of IFRS, in preparing its financial statement, how would that change the amounts reported for its provisions and contingent liabilities? (Note: you need not estimate the specific magnitudes here; just provide directional impacts)<br><br>\n",
       "</li>\r\n",
       "<li>How do you think this incident might have changed BP's financial reporting strategy? What role does financial reporting play in managing a corporate crisis?<br><br>\n",
       "</li>\r\n",
       "<li>How do you think this incident might have changed BP's corporate strategy and, hence, future growth and profitability?</li>\r\n",
       "</ol>"
      ],
      "text/plain": [
       "<IPython.core.display.HTML object>"
      ]
     },
     "metadata": {},
     "output_type": "display_data"
    },
    {
     "name": "stdout",
     "output_type": "stream",
     "text": [
      "###############################################################################################################\n",
      "\n"
     ]
    },
    {
     "data": {
      "text/html": [
       "<p><span style=\"color: #ff6600;\"><span style=\"font-size: 14pt; color: #ff6600;\"><strong>OPTIONAL Submission 07: </strong></span></span></p>\r\n",
       "<p><span style=\"color: #ff6600;\">Please do not forget to indicate on the page (or in the header/footer) your:</span></p>\r\n",
       "<ul>\r\n",
       "<li>section number,</li>\r\n",
       "<li>group number,</li>\r\n",
       "<li>names</li>\r\n",
       "</ul>\r\n",
       "<p><span style=\"font-size: 14pt; color: #ff6600;\"><strong>Case InBev acquires AB: <a class=\"instructure_file_link instructure_scribd_file\" title=\"S14.1_FA_InBev_s_Acquisition_of_Anheuser_Busch.pdf\" href=\"https://learn.insead.edu/courses/1043/files/88831/download?verifier=BmOQFpoKX1i4J8N131WmeyTm7prHfRcQAwCF9kya&amp;wrap=1\" data-api-endpoint=\"https://learn.insead.edu/api/v1/courses/1043/files/88831\" data-api-returntype=\"File\">S14.1_FA_InBev_s_Acquisition_of_Anheuser_Busch.pdf</a><br></strong></span></p>\r\n",
       "<p><u>One copy of 2 pages max</u> per group.</p>\r\n",
       "<p>Please read the excerpts from AB InBev’s 2008 annual report and the corporate communications distributed by InBev prior to the acquisition, and then answer the following questions.</p>\r\n",
       "<ol>\r\n",
       "<li>What do you think are the primary reasons underlying InBev’s decision to acquire AB? That is, what things can AB InBev potentially do that neither InBev nor Anheuser-Busch could likely do on its own?<br><br>\n",
       "</li>\r\n",
       "<li>What was the value and the form of the consideration that InBev gave to the shareholders of AB in exchange for their shares? How did InBev finance this payment? How is the source of financing reflected on InBev’s balance sheet and statement of cash flows?<br><br>\n",
       "</li>\r\n",
       "<li>AB has some of the world’s most valuable brands. What was the maximum carrying value in 2008 that AB assigned to these brands when reporting them on its balance sheet? What was the carrying value that AB InBev assigned these brands when reporting them on its 2008 balance sheet? What are the most likely reasons for the difference in the two amounts? What, if any, effect can these brands have on AB InBev’s reported profitability in 2008 and later years?<br><br>\n",
       "</li>\r\n",
       "<li>How much goodwill did AB InBev recognize as part of InBev’s acquisition of AB? What are some of the potential sources of this goodwill? How does AB InBev account for the goodwill at the time of the acquisition? What, if any, effect can goodwill have on AB InBev’s reported profitability in 2008 and later years?<br><br>\n",
       "</li>\r\n",
       "<li>What was the carrying value in 2008 that AB assigned to its property, plant and equipment (i.e., PP&amp;E)? What was the carrying value that AB InBev assigned to this PP&amp;E when reporting it on AB InBev’s 2008 balance sheet? What is the most likely reason for the difference in the two amounts? What, if any, is the effect of the PP&amp;E on AB InBev’s reported profitability in 2008 and later years?<br><br>\n",
       "</li>\r\n",
       "<li>How did the acquisition of AB affect AB InBev’s balance sheet? Describe the effect on individual assets, liabilities and equity components.<br><br>\n",
       "</li>\r\n",
       "<li>How much of AB’s revenues, expenses and profits for 2008 are included in AB InBev’s revenues, expenses and profits? Do the amounts equal 100 percent of the amounts generated by AB during 2008?<br><br>\n",
       "</li>\r\n",
       "<li>Ignoring the issue of how InBev obtained funding for the acquisition, how did the acquisition of AB by InBev affect AB InBev’s statement of cash flows?</li>\r\n",
       "</ol>"
      ],
      "text/plain": [
       "<IPython.core.display.HTML object>"
      ]
     },
     "metadata": {},
     "output_type": "display_data"
    },
    {
     "name": "stdout",
     "output_type": "stream",
     "text": [
      "###############################################################################################################\n",
      "\n"
     ]
    },
    {
     "data": {
      "text/html": [
       "<p><span style=\"color: #ff6600;\"><strong style=\"color: #ff6600; font-size: 14pt; font-family: sans-serif;\">REQUIRED Submission 02: </strong></span></p>\r\n",
       "<p><span style=\"color: #ff6600;\">Please do not forget to indicate on the page (or in the header/footer) your:</span></p>\r\n",
       "<ul>\r\n",
       "<li>section number,</li>\r\n",
       "<li>group number,</li>\r\n",
       "<li>names<br><br>\n",
       "</li>\r\n",
       "</ul>\r\n",
       "<p><strong style=\"color: #ff6600; font-size: 14pt; font-family: sans-serif;\">FSA Case</strong></p>\r\n",
       "<p><em><u>One copy of 10 ppt slides max</u> per group</em></p>\r\n",
       "<p><em>As explained during Session 5</em>, you are required to choose a company to analyze the FSA case on a first-come, first-served basis.</p>"
      ],
      "text/plain": [
       "<IPython.core.display.HTML object>"
      ]
     },
     "metadata": {},
     "output_type": "display_data"
    },
    {
     "name": "stdout",
     "output_type": "stream",
     "text": [
      "###############################################################################################################\n",
      "\n"
     ]
    }
   ],
   "source": [
    "for assignment_description in fa_assignments:\n",
    "    display(HTML(assignment_description.description))\n",
    "    print(\"#\"*111)\n",
    "    print()"
   ]
  },
  {
   "cell_type": "code",
   "execution_count": null,
   "metadata": {},
   "outputs": [],
   "source": []
  },
  {
   "cell_type": "code",
   "execution_count": 15,
   "metadata": {},
   "outputs": [],
   "source": [
    "fa_modules = fa.get_modules()"
   ]
  },
  {
   "cell_type": "code",
   "execution_count": 16,
   "metadata": {},
   "outputs": [],
   "source": [
    "def module_parser(module_object):\n",
    "    data = module_object.attributes\n",
    "    \n",
    "    print(f\"Module {data.get('name')} has {data.get('items_count')} items associated and can be found at {data.get('items_url')}\")\n",
    "    print()"
   ]
  },
  {
   "cell_type": "code",
   "execution_count": 17,
   "metadata": {},
   "outputs": [
    {
     "name": "stdout",
     "output_type": "stream",
     "text": [
      "Module Course Outline has 1 items associated and can be found at https://learn.insead.edu/api/v1/courses/1043/modules/10269/items\n",
      "\n",
      "Module Session 01 - Overview has 11 items associated and can be found at https://learn.insead.edu/api/v1/courses/1043/modules/10271/items\n",
      "\n",
      "Module Session 02 and 03  - The Balance Sheet & Income Statement has 11 items associated and can be found at https://learn.insead.edu/api/v1/courses/1043/modules/10273/items\n",
      "\n",
      "Module Tutorial 01 has 1 items associated and can be found at https://learn.insead.edu/api/v1/courses/1043/modules/12080/items\n",
      "\n",
      "Module Session 04 - Introduction to Financial Statement Analysis has 6 items associated and can be found at https://learn.insead.edu/api/v1/courses/1043/modules/10277/items\n",
      "\n",
      "Module Session 05 - Return on Invested Capital has 8 items associated and can be found at https://learn.insead.edu/api/v1/courses/1043/modules/10279/items\n",
      "\n",
      "Module Tutorial 02 has 1 items associated and can be found at https://learn.insead.edu/api/v1/courses/1043/modules/10275/items\n",
      "\n",
      "Module Session 06 - The Statement of Cash Flows has 9 items associated and can be found at https://learn.insead.edu/api/v1/courses/1043/modules/10281/items\n",
      "\n",
      "Module Session 07 - Cash Flow Analysis has 7 items associated and can be found at https://learn.insead.edu/api/v1/courses/1043/modules/10283/items\n",
      "\n",
      "Module Tutorial 03 has 1 items associated and can be found at https://learn.insead.edu/api/v1/courses/1043/modules/12081/items\n",
      "\n",
      "Module Session 08 - Earnings-Based Anomalies has 3 items associated and can be found at https://learn.insead.edu/api/v1/courses/1043/modules/10285/items\n",
      "\n",
      "Module Session 09 - Earnings Management has 7 items associated and can be found at https://learn.insead.edu/api/v1/courses/1043/modules/10287/items\n",
      "\n",
      "Module Session 10 - Revenue Recognition & Accounts Receivables has 8 items associated and can be found at https://learn.insead.edu/api/v1/courses/1043/modules/10290/items\n",
      "\n",
      "Module Session 11 - Inventory & Tangible Assets has 9 items associated and can be found at https://learn.insead.edu/api/v1/courses/1043/modules/10294/items\n",
      "\n",
      "Module Tutorial 04 has 1 items associated and can be found at https://learn.insead.edu/api/v1/courses/1043/modules/12082/items\n",
      "\n",
      "Module Tutorial 05 has 1 items associated and can be found at https://learn.insead.edu/api/v1/courses/1043/modules/12083/items\n",
      "\n",
      "Module Session 12 - Intangible Assets & Operating Liabilities has 7 items associated and can be found at https://learn.insead.edu/api/v1/courses/1043/modules/10297/items\n",
      "\n",
      "Module Session 13 - Financial Liabilities & Shareholders' Equity has 6 items associated and can be found at https://learn.insead.edu/api/v1/courses/1043/modules/10300/items\n",
      "\n",
      "Module Tutorial 06 has 1 items associated and can be found at https://learn.insead.edu/api/v1/courses/1043/modules/12084/items\n",
      "\n",
      "Module Session 14 - Investments has 10 items associated and can be found at https://learn.insead.edu/api/v1/courses/1043/modules/10303/items\n",
      "\n",
      "Module Review session has 1 items associated and can be found at https://learn.insead.edu/api/v1/courses/1043/modules/12085/items\n",
      "\n",
      "Module PRACTICE MID-TERM and FINAL EXAMS has 8 items associated and can be found at https://learn.insead.edu/api/v1/courses/1043/modules/10305/items\n",
      "\n"
     ]
    }
   ],
   "source": [
    "for module in fa_modules:\n",
    "    module_parser(module) "
   ]
  },
  {
   "cell_type": "code",
   "execution_count": null,
   "metadata": {},
   "outputs": [],
   "source": []
  }
 ],
 "metadata": {
  "kernelspec": {
   "display_name": "Python 3",
   "language": "python",
   "name": "python3"
  },
  "language_info": {
   "codemirror_mode": {
    "name": "ipython",
    "version": 3
   },
   "file_extension": ".py",
   "mimetype": "text/x-python",
   "name": "python",
   "nbconvert_exporter": "python",
   "pygments_lexer": "ipython3",
   "version": "3.7.3"
  }
 },
 "nbformat": 4,
 "nbformat_minor": 2
}
